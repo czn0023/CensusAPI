{
 "cells": [
  {
   "cell_type": "code",
   "execution_count": 1,
   "metadata": {},
   "outputs": [],
   "source": [
    "import pandas as pd\n",
    "pd.__version__\n",
    "import matplotlib.pyplot as plt\n",
    "%matplotlib inline\n"
   ]
  },
  {
   "cell_type": "code",
   "execution_count": 2,
   "metadata": {},
   "outputs": [],
   "source": [
    "#Bring in business ownes data set\n",
    "business_owners = pd.read_json('BusinessOwners.json')"
   ]
  },
  {
   "cell_type": "code",
   "execution_count": 3,
   "metadata": {},
   "outputs": [],
   "source": [
    "#Make 1st row headers\n",
    "new_header = business_owners.loc[0]\n",
    "business_owners = business_owners[1:]\n",
    "business_owners.columns = new_header"
   ]
  },
  {
   "cell_type": "code",
   "execution_count": 4,
   "metadata": {},
   "outputs": [
    {
     "data": {
      "text/plain": [
       "Index(['GEO_ID', 'NAME', 'NAICS2017', 'NAICS2017_LABEL', 'OWNER_SEX',\n",
       "       'OWNER_SEX_LABEL', 'OWNER_ETH', 'OWNER_ETH_LABEL', 'OWNER_RACE',\n",
       "       'OWNER_RACE_LABEL', 'OWNER_VET', 'OWNER_VET_LABEL', 'QDESC',\n",
       "       'QDESC_LABEL', 'OWNCHAR', 'OWNCHAR_LABEL', 'YEAR', 'OWNPDEMP',\n",
       "       'OWNPDEMP_F', 'OWNPDEMP_PCT', 'OWNPDEMP_PCT_F', 'OWNPDEMP_S',\n",
       "       'OWNPDEMP_S_F', 'OWNPDEMP_PCT_S', 'OWNPDEMP_PCT_S_F', 'us'],\n",
       "      dtype='object', name=0)"
      ]
     },
     "execution_count": 4,
     "metadata": {},
     "output_type": "execute_result"
    }
   ],
   "source": [
    "business_owners.columns"
   ]
  },
  {
   "cell_type": "code",
   "execution_count": 5,
   "metadata": {},
   "outputs": [],
   "source": [
    "#Remove Unnecessary Columns\n",
    "business_owners.drop('GEO_ID', axis=1, inplace=True)\n",
    "business_owners.drop('NAME', axis=1, inplace=True)\n",
    "business_owners.drop('NAICS2017', axis=1, inplace=True)\n",
    "business_owners.drop('OWNER_SEX', axis=1, inplace=True)\n",
    "business_owners.drop('OWNER_ETH', axis=1, inplace=True)\n",
    "business_owners.drop('OWNER_RACE', axis=1, inplace=True)\n",
    "business_owners.drop('OWNER_VET', axis=1, inplace=True)\n",
    "business_owners.drop('QDESC', axis=1, inplace=True)\n",
    "business_owners.drop('QDESC_LABEL', axis=1, inplace=True)\n",
    "business_owners.drop('OWNCHAR', axis=1, inplace=True)\n",
    "business_owners.drop('YEAR', axis=1, inplace=True)\n",
    "business_owners.drop('OWNPDEMP', axis=1, inplace=True)\n",
    "business_owners.drop('OWNPDEMP_F', axis=1, inplace=True)\n",
    "business_owners.drop('OWNPDEMP_PCT', axis=1, inplace=True)\n",
    "business_owners.drop('OWNPDEMP_PCT_F', axis=1, inplace=True)\n",
    "business_owners.drop('OWNPDEMP_S', axis=1, inplace=True)\n",
    "business_owners.drop('OWNPDEMP_S_F', axis=1, inplace=True)\n",
    "business_owners.drop('OWNPDEMP_PCT_S', axis=1, inplace=True)\n",
    "business_owners.drop('OWNPDEMP_PCT_S_F', axis=1, inplace=True)\n",
    "business_owners.drop('us', axis=1, inplace=True)"
   ]
  },
  {
   "cell_type": "code",
   "execution_count": 6,
   "metadata": {},
   "outputs": [
    {
     "data": {
      "text/plain": [
       "Index(['NAICS2017_LABEL', 'OWNER_SEX_LABEL', 'OWNER_ETH_LABEL',\n",
       "       'OWNER_RACE_LABEL', 'OWNER_VET_LABEL', 'OWNCHAR_LABEL'],\n",
       "      dtype='object', name=0)"
      ]
     },
     "execution_count": 6,
     "metadata": {},
     "output_type": "execute_result"
    }
   ],
   "source": [
    "#Check Columns\n",
    "business_owners.columns"
   ]
  },
  {
   "cell_type": "code",
   "execution_count": 8,
   "metadata": {},
   "outputs": [
    {
     "data": {
      "text/plain": [
       "All owners of respondent firms                40409\n",
       "White                                         11203\n",
       "Nonminority                                   11198\n",
       "Minority                                      10422\n",
       "Asian                                          9351\n",
       "Black or African American                      8838\n",
       "American Indian and Alaska Native              7836\n",
       "Native Hawaiian and Other Pacific Islander     5365\n",
       "Name: OWNER_RACE_LABEL, dtype: int64"
      ]
     },
     "execution_count": 8,
     "metadata": {},
     "output_type": "execute_result"
    }
   ],
   "source": [
    "#Check Race of Owners\n",
    "business_owners_race = business_owners.OWNER_RACE_LABEL.value_counts()\n",
    "business_owners_race"
   ]
  },
  {
   "cell_type": "code",
   "execution_count": 26,
   "metadata": {},
   "outputs": [
    {
     "data": {
      "text/plain": [
       "Text(0, 0.5, 'Race')"
      ]
     },
     "execution_count": 26,
     "metadata": {},
     "output_type": "execute_result"
    },
    {
     "data": {
      "image/png": "[encoded data removed]",
      "text/plain": [
       "<Figure size 432x288 with 1 Axes>"
      ]
     },
     "metadata": {
      "needs_background": "light"
     },
     "output_type": "display_data"
    }
   ],
   "source": [
    "#Remove non specific race values and plot\n",
    "business_owners_race_clean = business_owners.OWNER_RACE_LABEL\n",
    "business_owners_race_clean.drop(business_owners.index[business_owners['OWNER_RACE_LABEL'] == 'All owners of respondent firms'], inplace = True)\n",
    "business_owners_race_clean.drop(business_owners.index[business_owners['OWNER_RACE_LABEL'] == 'Nonminority'], inplace = True)\n",
    "business_owners_race_clean.drop(business_owners.index[business_owners['OWNER_RACE_LABEL'] == 'Minority'], inplace = True)\n",
    "plot_race = business_owners_race_clean.value_counts()\n",
    "ax = plot_race.plot(title = \"Business Owners by Race\", kind = 'barh')\n",
    "ax.set_xlabel('Number of Owners')\n",
    "ax.set_ylabel('Race')"
   ]
  },
  {
   "cell_type": "code",
   "execution_count": 10,
   "metadata": {},
   "outputs": [
    {
     "name": "stderr",
     "output_type": "stream",
     "text": [
      "C:\\Users\\Daniel\\AppData\\Local\\Packages\\PythonSoftwareFoundation.Python.3.9_qbz5n2kfra8p0\\LocalCache\\local-packages\\Python39\\site-packages\\pandas\\core\\frame.py:4906: SettingWithCopyWarning: \n",
      "A value is trying to be set on a copy of a slice from a DataFrame\n",
      "\n",
      "See the caveats in the documentation: https://pandas.pydata.org/pandas-docs/stable/user_guide/indexing.html#returning-a-view-versus-a-copy\n",
      "  return super().drop(\n"
     ]
    },
    {
     "data": {
      "text/plain": [
       "OWNER_SEX_LABEL  OWNER_VET_LABEL\n",
       "Male             Veteran            2342\n",
       "                 Nonveteran         2220\n",
       "Female           Nonveteran         2198\n",
       "                 Veteran            1697\n",
       "dtype: int64"
      ]
     },
     "execution_count": 10,
     "metadata": {},
     "output_type": "execute_result"
    }
   ],
   "source": [
    "#Remeve non specific Sex and Vet Status Labels\n",
    "business_owners_sex_vet = business_owners[['OWNER_SEX_LABEL', 'OWNER_VET_LABEL']]\n",
    "business_owners_sex_vet.drop(business_owners.index[business_owners['OWNER_SEX_LABEL'] == 'All owners of respondent firms'], inplace = True)\n",
    "business_owners_sex_vet.drop(business_owners_sex_vet.index[business_owners_sex_vet['OWNER_VET_LABEL'] == 'All owners of respondent firms'], inplace = True)\n",
    "business_owners_sex_vet.value_counts()"
   ]
  },
  {
   "cell_type": "code",
   "execution_count": 11,
   "metadata": {},
   "outputs": [
    {
     "data": {
      "image/png": "[encoded data removed]",
      "text/plain": [
       "<Figure size 432x288 with 1 Axes>"
      ]
     },
     "metadata": {
      "needs_background": "light"
     },
     "output_type": "display_data"
    }
   ],
   "source": [
    "#Plot the combined data\n",
    "plot_sex_vet = business_owners_sex_vet.value_counts()\n",
    "ax = plot_sex_vet.plot.barh(title = \"Business Owners by Sex and Vet Status\", color=['navy', 'skyblue', 'lightpink', 'deeppink'])\n",
    "plt.xlabel('Number of Owners')\n",
    "plt.ylabel('Sex / Vet Status')\n",
    "plt.show()"
   ]
  },
  {
   "cell_type": "code",
   "execution_count": 12,
   "metadata": {},
   "outputs": [],
   "source": [
    "#Bring in employee dataset\n",
    "business_employees = pd.read_json(\"employees.json\")"
   ]
  },
  {
   "cell_type": "code",
   "execution_count": 13,
   "metadata": {},
   "outputs": [],
   "source": [
    "#Make 1st row headers\n",
    "new_header = business_employees.loc[0]\n",
    "business_employees = business_employees[1:]\n",
    "business_employees.columns = new_header"
   ]
  },
  {
   "cell_type": "code",
   "execution_count": 14,
   "metadata": {},
   "outputs": [
    {
     "data": {
      "text/plain": [
       "Index(['GEO_ID', 'NAME', 'NAICS2017', 'NAICS2017_LABEL', 'SEX', 'SEX_LABEL',\n",
       "       'ETH_GROUP', 'ETH_GROUP_LABEL', 'RACE_GROUP', 'RACE_GROUP_LABEL',\n",
       "       'VET_GROUP', 'VET_GROUP_LABEL', 'QDESC', 'QDESC_LABEL', 'BUSCHAR',\n",
       "       'BUSCHAR_LABEL', 'YEAR', 'FIRMPDEMP', 'FIRMPDEMP_F', 'FIRMPDEMP_PCT',\n",
       "       'FIRMPDEMP_PCT_F', 'RCPPDEMP', 'RCPPDEMP_F', 'RCPPDEMP_PCT',\n",
       "       'RCPPDEMP_PCT_F', 'EMP', 'EMP_F', 'EMP_PCT', 'EMP_PCT_F', 'PAYANN',\n",
       "       'PAYANN_F', 'PAYANN_PCT', 'PAYANN_PCT_F', 'FIRMPDEMP_S',\n",
       "       'FIRMPDEMP_S_F', 'FIRMPDEMP_PCT_S', 'FIRMPDEMP_PCT_S_F', 'RCPPDEMP_S',\n",
       "       'RCPPDEMP_S_F', 'RCPPDEMP_PCT_S', 'RCPPDEMP_PCT_S_F', 'EMP_S',\n",
       "       'EMP_S_F', 'EMP_PCT_S', 'EMP_PCT_S_F', 'PAYANN_S', 'PAYANN_S_F',\n",
       "       'PAYANN_PCT_S', 'PAYANN_PCT_S_F', 'us'],\n",
       "      dtype='object', name=0)"
      ]
     },
     "execution_count": 14,
     "metadata": {},
     "output_type": "execute_result"
    }
   ],
   "source": [
    "business_employees.columns"
   ]
  },
  {
   "cell_type": "code",
   "execution_count": 15,
   "metadata": {},
   "outputs": [],
   "source": [
    "#Remove unnecessary columns\n",
    "business_employees.drop('GEO_ID', axis=1, inplace=True)\n",
    "business_employees.drop('NAME', axis=1, inplace=True)\n",
    "business_employees.drop('NAICS2017', axis=1, inplace=True)\n",
    "business_employees.drop('SEX', axis=1, inplace=True)\n",
    "business_employees.drop('ETH_GROUP', axis=1, inplace=True)\n",
    "business_employees.drop('RACE_GROUP', axis=1, inplace=True)\n",
    "business_employees.drop('VET_GROUP', axis=1, inplace=True)\n",
    "business_employees.drop('QDESC', axis=1, inplace=True)\n",
    "business_employees.drop('QDESC_LABEL', axis=1, inplace=True)\n",
    "business_employees.drop('BUSCHAR', axis=1, inplace=True)\n",
    "business_employees.drop('YEAR', axis=1, inplace=True)\n",
    "business_employees.drop('FIRMPDEMP', axis=1, inplace=True)\n",
    "business_employees.drop('FIRMPDEMP_F', axis=1, inplace=True)\n",
    "business_employees.drop('FIRMPDEMP_PCT', axis=1, inplace=True)\n",
    "business_employees.drop('FIRMPDEMP_PCT_F', axis=1, inplace=True)\n",
    "business_employees.drop('RCPPDEMP', axis=1, inplace=True)\n",
    "business_employees.drop('RCPPDEMP_F', axis=1, inplace=True)\n",
    "business_employees.drop('RCPPDEMP_PCT', axis=1, inplace=True)\n",
    "business_employees.drop('RCPPDEMP_PCT_F', axis=1, inplace=True)\n",
    "business_employees.drop('EMP', axis=1, inplace=True)\n",
    "business_employees.drop('EMP_F', axis=1, inplace=True)\n",
    "business_employees.drop('EMP_PCT', axis=1, inplace=True)\n",
    "business_employees.drop('EMP_PCT_F', axis=1, inplace=True)\n",
    "business_employees.drop('PAYANN', axis=1, inplace=True)\n",
    "business_employees.drop('PAYANN_F', axis=1, inplace=True)\n",
    "business_employees.drop('PAYANN_PCT', axis=1, inplace=True)\n",
    "business_employees.drop('PAYANN_PCT_F', axis=1, inplace=True)\n",
    "business_employees.drop('FIRMPDEMP_S', axis=1, inplace=True)\n",
    "business_employees.drop('FIRMPDEMP_S_F', axis=1, inplace=True)\n",
    "business_employees.drop('FIRMPDEMP_PCT_S', axis=1, inplace=True)\n",
    "business_employees.drop('FIRMPDEMP_PCT_S_F', axis=1, inplace=True)\n",
    "business_employees.drop('RCPPDEMP_S', axis=1, inplace=True)\n",
    "business_employees.drop('RCPPDEMP_S_F', axis=1, inplace=True)\n",
    "business_employees.drop('RCPPDEMP_PCT_S', axis=1, inplace=True)\n",
    "business_employees.drop('RCPPDEMP_PCT_S_F', axis=1, inplace=True)\n",
    "business_employees.drop('EMP_S', axis=1, inplace=True)\n",
    "business_employees.drop('EMP_S_F', axis=1, inplace=True)\n",
    "business_employees.drop('EMP_PCT_S', axis=1, inplace=True)\n",
    "business_employees.drop('EMP_PCT_S_F', axis=1, inplace=True)\n",
    "business_employees.drop('PAYANN_S', axis=1, inplace=True)\n",
    "business_employees.drop('PAYANN_S_F', axis=1, inplace=True)\n",
    "business_employees.drop('PAYANN_PCT_S', axis=1, inplace=True)\n",
    "business_employees.drop('PAYANN_PCT_S_F', axis=1, inplace=True)\n",
    "business_employees.drop('us', axis=1, inplace=True)"
   ]
  },
  {
   "cell_type": "code",
   "execution_count": 16,
   "metadata": {},
   "outputs": [
    {
     "data": {
      "text/plain": [
       "Index(['NAICS2017_LABEL', 'SEX_LABEL', 'ETH_GROUP_LABEL', 'RACE_GROUP_LABEL',\n",
       "       'VET_GROUP_LABEL', 'BUSCHAR_LABEL'],\n",
       "      dtype='object', name=0)"
      ]
     },
     "execution_count": 16,
     "metadata": {},
     "output_type": "execute_result"
    }
   ],
   "source": [
    "#Check columns\n",
    "business_employees.columns"
   ]
  },
  {
   "cell_type": "code",
   "execution_count": 17,
   "metadata": {},
   "outputs": [
    {
     "data": {
      "text/plain": [
       "Index(['NAICS2017_LABEL', 'OWNER_SEX_LABEL', 'OWNER_ETH_LABEL',\n",
       "       'OWNER_RACE_LABEL', 'OWNER_VET_LABEL', 'OWNCHAR_LABEL'],\n",
       "      dtype='object', name=0)"
      ]
     },
     "execution_count": 17,
     "metadata": {},
     "output_type": "execute_result"
    }
   ],
   "source": [
    "business_owners.columns"
   ]
  },
  {
   "cell_type": "code",
   "execution_count": 18,
   "metadata": {},
   "outputs": [],
   "source": [
    "#Need to take sample from each dataset because datasets are too big to merge as wholes\n",
    "#Taking random sample of 20000 from each dataset\n",
    "business_owners_20000 = business_owners.sample(20000)\n",
    "business_employees_20000 = business_employees.sample(20000)\n"
   ]
  },
  {
   "cell_type": "code",
   "execution_count": 19,
   "metadata": {},
   "outputs": [],
   "source": [
    "#Adding another race column in owner dataset to match employee dataset column name\n",
    "business_owners_20000['RACE_GROUP_LABEL'] = business_owners_20000['OWNER_RACE_LABEL']\n",
    "#Merging the samples on Race\n",
    "merge1 = business_owners_20000.merge(business_employees_20000, how='inner', on='RACE_GROUP_LABEL')"
   ]
  },
  {
   "cell_type": "code",
   "execution_count": 20,
   "metadata": {},
   "outputs": [
    {
     "data": {
      "text/plain": [
       "Index(['NAICS2017_LABEL_x', 'OWNER_SEX_LABEL', 'OWNER_ETH_LABEL',\n",
       "       'OWNER_RACE_LABEL', 'OWNER_VET_LABEL', 'OWNCHAR_LABEL',\n",
       "       'RACE_GROUP_LABEL', 'NAICS2017_LABEL_y', 'SEX_LABEL', 'ETH_GROUP_LABEL',\n",
       "       'VET_GROUP_LABEL', 'BUSCHAR_LABEL'],\n",
       "      dtype='object', name=0)"
      ]
     },
     "execution_count": 20,
     "metadata": {},
     "output_type": "execute_result"
    }
   ],
   "source": [
    "#Checking columns\n",
    "merge1.columns"
   ]
  },
  {
   "cell_type": "code",
   "execution_count": 21,
   "metadata": {},
   "outputs": [
    {
     "data": {
      "text/plain": [
       "Nonminority                                   5209245\n",
       "Minority                                      4603716\n",
       "White                                         1050056\n",
       "Asian                                          789322\n",
       "Black or African American                      682101\n",
       "American Indian and Alaska Native              589323\n",
       "Native Hawaiian and Other Pacific Islander     327936\n",
       "Name: RACE_GROUP_LABEL, dtype: int64"
      ]
     },
     "execution_count": 21,
     "metadata": {},
     "output_type": "execute_result"
    }
   ],
   "source": [
    "#Checking counts\n",
    "merge1.RACE_GROUP_LABEL.value_counts()"
   ]
  },
  {
   "cell_type": "code",
   "execution_count": 22,
   "metadata": {},
   "outputs": [],
   "source": [
    "#Create dataset to clean\n",
    "merge1_clean = merge1"
   ]
  },
  {
   "cell_type": "code",
   "execution_count": 23,
   "metadata": {},
   "outputs": [],
   "source": [
    "#Remove nonspecific race labels\n",
    "merge1_clean.drop(merge1.index[merge1['RACE_GROUP_LABEL'] == 'Nonminority'], inplace = True)\n",
    "merge1_clean.drop(merge1.index[merge1['RACE_GROUP_LABEL'] == 'Minority'], inplace = True)"
   ]
  },
  {
   "cell_type": "code",
   "execution_count": 24,
   "metadata": {},
   "outputs": [
    {
     "data": {
      "text/plain": [
       "White                                         1050056\n",
       "Asian                                          789322\n",
       "Black or African American                      682101\n",
       "American Indian and Alaska Native              589323\n",
       "Native Hawaiian and Other Pacific Islander     327936\n",
       "Name: RACE_GROUP_LABEL, dtype: int64"
      ]
     },
     "execution_count": 24,
     "metadata": {},
     "output_type": "execute_result"
    }
   ],
   "source": [
    "#Check counts\n",
    "merge1_clean.RACE_GROUP_LABEL.value_counts()"
   ]
  },
  {
   "cell_type": "code",
   "execution_count": 25,
   "metadata": {},
   "outputs": [
    {
     "data": {
      "text/plain": [
       "Text(0, 0.5, 'Race')"
      ]
     },
     "execution_count": 25,
     "metadata": {},
     "output_type": "execute_result"
    },
    {
     "data": {
      "image/png": "[encoded data removed]",
      "text/plain": [
       "<Figure size 432x288 with 1 Axes>"
      ]
     },
     "metadata": {
      "needs_background": "light"
     },
     "output_type": "display_data"
    }
   ],
   "source": [
    "#Plot merged race data\n",
    "plot_group = merge1_clean.RACE_GROUP_LABEL.value_counts()\n",
    "ax = plot_group.plot(title = \"Total Numbers by Race (Employee/Owner Combined)\", kind = 'barh')\n",
    "ax.set_xlabel('Toal Employees/Owners')\n",
    "ax.set_ylabel('Race')"
   ]
  }
 ],
 "metadata": {
  "interpreter": {
   "hash": "3a555e031f921cec308b85ca21a0e976ded3f2bd321f13a8ca2fe088965d48db"
  },
  "kernelspec": {
   "display_name": "Python 3.9.9 64-bit (windows store)",
   "language": "python",
   "name": "python3"
  },
  "language_info": {
   "codemirror_mode": {
    "name": "ipython",
    "version": 3
   },
   "file_extension": ".py",
   "mimetype": "text/x-python",
   "name": "python",
   "nbconvert_exporter": "python",
   "pygments_lexer": "ipython3",
   "version": "3.9.9"
  },
  "orig_nbformat": 4
 },
 "nbformat": 4,
 "nbformat_minor": 2
}
